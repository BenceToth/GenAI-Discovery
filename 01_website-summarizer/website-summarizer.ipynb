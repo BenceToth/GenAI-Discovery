{
 "cells": [
  {
   "cell_type": "markdown",
   "id": "461a072d",
   "metadata": {},
   "source": [
    "# Website Summarizer - DeepSeek via Ollama\n",
    "Compact website summarization with thinking process filtering."
   ]
  },
  {
   "cell_type": "code",
   "execution_count": 16,
   "id": "8015aa1e",
   "metadata": {},
   "outputs": [],
   "source": [
    "import requests\n",
    "from bs4 import BeautifulSoup\n",
    "from IPython.display import Markdown, display\n",
    "import warnings\n",
    "\n",
    "# !ollama pull deepseek-r1:1.5b\n",
    "# Disable warnings (including SSL warnings)\n",
    "warnings.filterwarnings('ignore')"
   ]
  },
  {
   "cell_type": "code",
   "execution_count": null,
   "id": "cca32f87",
   "metadata": {},
   "outputs": [],
   "source": [
    "# Constants\n",
    "API = \"http://localhost:11434/api/chat\"\n",
    "MODEL = \"deepseek-r1:1.5b\"\n",
    "HEADERS = {\"Content-Type\": \"application/json\"}"
   ]
  },
  {
   "cell_type": "code",
   "execution_count": 33,
   "id": "1ed2eceb",
   "metadata": {},
   "outputs": [],
   "source": [
    "import re\n",
    "\n",
    "class WebsiteSummarizer:\n",
    "    \"\"\"Website summarizer using DeepSeek via Ollama with thinking process filtering.\"\"\"\n",
    "    \n",
    "    def __init__(self, api_url=API, model=MODEL, headers=HEADERS):\n",
    "        self.api_url = api_url\n",
    "        self.model = model\n",
    "        self.headers = headers\n",
    "        self.user_agent = \"Mozilla/5.0 (Windows NT 10.0; Win64; x64) AppleWebKit/537.36\"\n",
    "    \n",
    "    def _filter_thinking(self, text):\n",
    "        \"\"\"Remove DeepSeek's <think> tags.\"\"\"\n",
    "        cleaned = re.sub(r'<think>.*?</think>', '', text, flags=re.DOTALL).strip()\n",
    "        return cleaned if cleaned else text\n",
    "    \n",
    "    def _fetch_website(self, url):\n",
    "        \"\"\"Fetch and parse website content.\"\"\"\n",
    "        response = requests.get(url, headers={\"User-Agent\": self.user_agent}, verify=False)\n",
    "        response.raise_for_status()\n",
    "        \n",
    "        soup = BeautifulSoup(response.content, 'html.parser')\n",
    "        title = soup.title.string.strip() if soup.title else \"No title\"\n",
    "        \n",
    "        # Remove unwanted elements\n",
    "        for tag in soup([\"script\", \"style\", \"img\", \"input\"]):\n",
    "            tag.decompose()\n",
    "        \n",
    "        text = soup.get_text(separator=\"\\n\", strip=True)\n",
    "        return title, text\n",
    "    \n",
    "    def summarize(self, url, show_thinking=False):\n",
    "        \"\"\"Summarize a website.\"\"\"\n",
    "        title, content = self._fetch_website(url)\n",
    "        \n",
    "        messages = [\n",
    "            {\"role\": \"system\", \"content\": \"Analyze website content and provide a concise markdown summary focusing on key news and announcements.\"},\n",
    "            {\"role\": \"user\", \"content\": f\"Website: {title}\\n\\nContent:\\n{content}\"}\n",
    "        ]\n",
    "        \n",
    "        payload = {\"model\": self.model, \"messages\": messages, \"stream\": False}\n",
    "        response = requests.post(self.api_url, json=payload, headers=self.headers)\n",
    "        response.raise_for_status()\n",
    "        \n",
    "        result = response.json()['message']['content']\n",
    "        return result if show_thinking else self._filter_thinking(result)\n",
    "    \n",
    "    def display(self, url, show_thinking=False):\n",
    "        \"\"\"Display website summary as markdown.\"\"\"\n",
    "        summary = self.summarize(url, show_thinking)\n",
    "        display(Markdown(summary))"
   ]
  },
  {
   "cell_type": "code",
   "execution_count": 34,
   "id": "ad282fda",
   "metadata": {},
   "outputs": [
    {
     "name": "stdout",
     "output_type": "stream",
     "text": [
      "✅ Website summarizer ready!\n"
     ]
    }
   ],
   "source": [
    "# Create summarizer instance\n",
    "summarizer = WebsiteSummarizer()\n",
    "print(\"✅ Website summarizer ready!\")"
   ]
  },
  {
   "cell_type": "code",
   "execution_count": 36,
   "id": "f0cb5860",
   "metadata": {},
   "outputs": [
    {
     "data": {
      "text/markdown": [
       "Here is a concise markdown summary highlighting key news and announcements from CNN Breaking News:\n",
       "\n",
       "---\n",
       "\n",
       "### **US Region**\n",
       "\n",
       "1. **Breaking News:**\n",
       "   - President Trump's tweets and political emails continue to spark controversy and scrutiny.\n",
       "\n",
       "2. **International Coverage:**\n",
       "   - Climate change in the US faces a critical debate, with international experts weighing the urgency of action.\n",
       "   - Global health crisis from Brazil highlights concerns about pandemics and their impact on populations.\n",
       "\n",
       "3. ** celebrity Gossip & Moments:**\n",
       "   - Lali Houghton shares a heartfelt moment during her Adele album performance.\n",
       "   - Julia Demaree Nikhinson's reaction to recent political moves is widely discussed.\n",
       "\n",
       "---\n",
       "\n",
       "### **International Region**\n",
       "\n",
       "1. **Breaking News:**\n",
       "   - U.S.-China trade war details are shaping policy discussions, with both sides expressing concerns over trade disputes.\n",
       "\n",
       "2. **Global Coverage:**\n",
       "   - Climate change in the US and global health crises from Brazil are key topics of international debate.\n",
       "   - International news highlights the impact of these global issues on individual lives.\n",
       "\n",
       "---\n",
       "\n",
       "### **Asian Region**\n",
       "\n",
       "1. **Breaking News:**\n",
       "   - Issues with Japanese nuclear powers pose a serious threat to global security, drawing attention worldwide.\n",
       "\n",
       "2. **International Coverage:**\n",
       "   - Global health challenges from Brazil continue to shape international perspectives on pandemics.\n",
       "   - The U.S.-China trade war is ongoing, influencing global economic policies.\n",
       "\n",
       "---\n",
       "\n",
       "### **Additional Highlights**\n",
       "\n",
       "- **Weather News:** Typhoon Ragasa, a significant weather event, features multiple videos.\n",
       "- **Celebrity Content:** Fun moments and engaging video highlights add an entertaining touch to the site's content.\n",
       "- **Video Platforms:** Most videos load quickly, while some may take longer due to compatibility issues.\n",
       "\n",
       "---\n",
       "\n",
       "This summary captures the essence of CNN Breaking News, emphasizing its balance of breaking news, international coverage, and celebrity moments."
      ],
      "text/plain": [
       "<IPython.core.display.Markdown object>"
      ]
     },
     "metadata": {},
     "output_type": "display_data"
    }
   ],
   "source": [
    "# Usage example\n",
    "summarizer.display(\"https://cnn.com\")"
   ]
  },
  {
   "cell_type": "code",
   "execution_count": 35,
   "id": "6af1d3d2",
   "metadata": {},
   "outputs": [
    {
     "name": "stdout",
     "output_type": "stream",
     "text": [
      "Usage:\n",
      "summarizer.display(url)              # Clean summary\n",
      "summarizer.display(url, True)        # With thinking process\n",
      "text = summarizer.summarize(url)     # Get text only\n",
      "\n",
      "✅ Success! Summary length: 187 characters\n",
      "\n",
      "✅ Success! Summary length: 187 characters\n"
     ]
    }
   ],
   "source": [
    "# Additional usage options\n",
    "print(\"Usage:\")\n",
    "print(\"summarizer.display(url)              # Clean summary\")\n",
    "print(\"summarizer.display(url, True)        # With thinking process\") \n",
    "print(\"text = summarizer.summarize(url)     # Get text only\")\n",
    "\n",
    "# Quick test\n",
    "try:\n",
    "    summary = summarizer.summarize(\"https://example.com\")\n",
    "    print(f\"\\n✅ Success! Summary length: {len(summary)} characters\")\n",
    "except Exception as e:\n",
    "    print(f\"❌ Error: {e}\")"
   ]
  }
 ],
 "metadata": {
  "kernelspec": {
   "display_name": "Python 3",
   "language": "python",
   "name": "python3"
  },
  "language_info": {
   "codemirror_mode": {
    "name": "ipython",
    "version": 3
   },
   "file_extension": ".py",
   "mimetype": "text/x-python",
   "name": "python",
   "nbconvert_exporter": "python",
   "pygments_lexer": "ipython3",
   "version": "3.12.6"
  }
 },
 "nbformat": 4,
 "nbformat_minor": 5
}
