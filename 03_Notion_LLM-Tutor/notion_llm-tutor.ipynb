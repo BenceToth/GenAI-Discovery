{
 "cells": [
  {
   "cell_type": "markdown",
   "id": "58cfbde4",
   "metadata": {},
   "source": [
    "# LLM Tutor"
   ]
  },
  {
   "cell_type": "markdown",
   "id": "6e1219a5",
   "metadata": {},
   "source": [
    "A tool that takes a technical question, and responds with an explanation. I will build upon it in the future"
   ]
  },
  {
   "cell_type": "code",
   "execution_count": 15,
   "id": "075050a2",
   "metadata": {},
   "outputs": [],
   "source": [
    "# imports\n",
    "from dotenv import load_dotenv\n",
    "from IPython.display import Markdown, display, update_display\n",
    "from openai import OpenAI\n",
    "import ollama\n",
    "import os\n",
    "from notion_client import Client as NotionClient"
   ]
  },
  {
   "cell_type": "code",
   "execution_count": 16,
   "id": "943fafcc",
   "metadata": {},
   "outputs": [],
   "source": [
    "# constants and setup\n",
    "load_dotenv(override=True)\n",
    "\n",
    "MODEL_GPT = 'gpt-4o-mini'\n",
    "MODEL_LLAMA = 'llama3.2'\n",
    "CLIENT = OpenAI()\n",
    "OPENAI_API_KEY = os.getenv('OPENAI_API_KEY')\n",
    "NOTION_API_KEY = os.getenv('NOTION_API_KEY')\n",
    "NOTION_PAGE_ID = os.getenv('NOTION_PAGE_ID')\n"
   ]
  },
  {
   "cell_type": "code",
   "execution_count": 19,
   "id": "5a4086e2",
   "metadata": {},
   "outputs": [
    {
     "name": "stdout",
     "output_type": "stream",
     "text": [
      "API key looks good so far\n",
      "Notion API key not found or invalid format\n",
      "Notion Page ID looks good so far\n"
     ]
    }
   ],
   "source": [
    "# check OpenAI API key format\n",
    "if OPENAI_API_KEY and OPENAI_API_KEY.startswith('sk-proj-') and len(OPENAI_API_KEY)>10:\n",
    "    print(\"API key looks good so far\")\n",
    "else:\n",
    "    print(\"There might be a problem with your API key? Please visit the troubleshooting notebook!\")\n",
    "    \n",
    "# check Notion API key format\n",
    "if NOTION_API_KEY and NOTION_API_KEY.startswith('ntn_') and len(NOTION_API_KEY)>10:\n",
    "    print(\"Notion API key looks good so far\")\n",
    "else:\n",
    "    print(\"Notion API key not found or invalid format\")\n",
    "\n",
    "# check Notion Page ID format (8-4-4-4-12 characters)\n",
    "if NOTION_PAGE_ID and \\\n",
    "    len(NOTION_PAGE_ID) == (32+4) and \\\n",
    "    all(len(part) == expected for part, expected in zip(NOTION_PAGE_ID.split('-'), [8, 4, 4, 4, 12])):\n",
    "    print(\"Notion Page ID looks good so far\")\n",
    "else:\n",
    "    print(\"Invalid Notion Page ID format. It should follow the pattern: 8-4-4-4-12\")"
   ]
  },
  {
   "cell_type": "code",
   "execution_count": null,
   "id": "b12d3312",
   "metadata": {},
   "outputs": [],
   "source": [
    "# Set up Notion connection\n",
    "\n",
    "# Initialize the client\n",
    "notion = NotionClient(auth=NOTION_API_KEY)\n",
    "\n",
    "# Read a page\n",
    "page = notion.pages.retrieve(page_id=NOTION_PAGE_ID)"
   ]
  },
  {
   "cell_type": "code",
   "execution_count": null,
   "id": "827039cb",
   "metadata": {},
   "outputs": [],
   "source": [
    "# Extract content from Notion page\n",
    "def extract_notion_content(page):\n",
    "    \"\"\"\n",
    "    Extract text content from Notion page blocks\n",
    "    \"\"\"\n",
    "    page_id = page['id']\n",
    "    \n",
    "    # Get all blocks from the page\n",
    "    blocks_response = notion.blocks.children.list(block_id=page_id)\n",
    "    blocks = blocks_response.get('results', [])\n",
    "    \n",
    "    content_parts = []\n",
    "    \n",
    "    for block in blocks:\n",
    "        block_type = block.get('type')\n",
    "        \n",
    "        if block_type == 'paragraph':\n",
    "            text_content = extract_text_from_rich_text(block.get('paragraph', {}).get('rich_text', []))\n",
    "            if text_content.strip():\n",
    "                content_parts.append(text_content)\n",
    "                \n",
    "        elif block_type == 'heading_1':\n",
    "            text_content = extract_text_from_rich_text(block.get('heading_1', {}).get('rich_text', []))\n",
    "            if text_content.strip():\n",
    "                content_parts.append(f\"# {text_content}\")\n",
    "                \n",
    "        elif block_type == 'heading_2':\n",
    "            text_content = extract_text_from_rich_text(block.get('heading_2', {}).get('rich_text', []))\n",
    "            if text_content.strip():\n",
    "                content_parts.append(f\"## {text_content}\")\n",
    "                \n",
    "        elif block_type == 'heading_3':\n",
    "            text_content = extract_text_from_rich_text(block.get('heading_3', {}).get('rich_text', []))\n",
    "            if text_content.strip():\n",
    "                content_parts.append(f\"### {text_content}\")\n",
    "                \n",
    "        elif block_type == 'bulleted_list_item':\n",
    "            text_content = extract_text_from_rich_text(block.get('bulleted_list_item', {}).get('rich_text', []))\n",
    "            if text_content.strip():\n",
    "                content_parts.append(f\"• {text_content}\")\n",
    "                \n",
    "        elif block_type == 'numbered_list_item':\n",
    "            text_content = extract_text_from_rich_text(block.get('numbered_list_item', {}).get('rich_text', []))\n",
    "            if text_content.strip():\n",
    "                content_parts.append(f\"1. {text_content}\")\n",
    "                \n",
    "        elif block_type == 'code':\n",
    "            code_content = extract_text_from_rich_text(block.get('code', {}).get('rich_text', []))\n",
    "            language = block.get('code', {}).get('language', 'text')\n",
    "            if code_content.strip():\n",
    "                content_parts.append(f\"```{language}\\n{code_content}\\n```\")\n",
    "    \n",
    "    return \"\\n\\n\".join(content_parts)\n",
    "\n",
    "def extract_text_from_rich_text(rich_text_array):\n",
    "    \"\"\"\n",
    "    Extract plain text from Notion rich text array\n",
    "    \"\"\"\n",
    "    return \"\".join([item.get('plain_text', '') for item in rich_text_array])\n",
    "\n",
    "# Extract the content\n",
    "try:\n",
    "    notion_content = extract_notion_content(page)\n",
    "    print(f\"✅ Extracted {len(notion_content)} characters from Notion page\")\n",
    "    print(f\"Preview: {notion_content[:200]}...\")\n",
    "except Exception as e:\n",
    "    print(f\"❌ Error extracting content: {e}\")\n",
    "    notion_content = \"\""
   ]
  },
  {
   "cell_type": "code",
   "execution_count": 10,
   "id": "52e31ed0",
   "metadata": {},
   "outputs": [],
   "source": [
    "# example question:\n",
    "# Please explain what this code does and why:\n",
    "# yield from {book.get(\"author\") for book in books if book.get(\"author\")}\n",
    "question = input(\"Please enter your question:\")"
   ]
  },
  {
   "cell_type": "code",
   "execution_count": null,
   "id": "186669c8",
   "metadata": {},
   "outputs": [],
   "source": [
    "# Create enhanced system prompt with Notion content\n",
    "base_system_prompt = \"\"\"You are a helpful technical tutor who answers questions about python code, software engineering, data science and LLMs.\n",
    "\n",
    "You have access to additional reference material that may be relevant to the user's questions. Use this information to provide more comprehensive and accurate answers when applicable.\n",
    "\n",
    "REFERENCE MATERIAL:\n",
    "\"\"\"\n",
    "\n",
    "# Combine base prompt with Notion content\n",
    "if notion_content:\n",
    "    system_prompt = base_system_prompt + f\"\\n{notion_content}\\n\\n\" + \"\"\"\n",
    "INSTRUCTIONS:\n",
    "- Use the reference material above when it's relevant to the user's question\n",
    "- Always prioritize accuracy and clarity in your explanations\n",
    "- If the reference material contains relevant information, mention that you're drawing from additional resources\n",
    "- If the question is outside the scope of the reference material, answer based on your general knowledge\n",
    "\"\"\"\n",
    "else:\n",
    "    system_prompt = \"You are a helpful technical tutor who answers questions about python code, software engineering, data science and LLMs\"\n",
    "\n",
    "user_prompt = \"Please give a detailed explanation to the following question: \" + question\n",
    "\n",
    "messages = [\n",
    "    {\"role\": \"system\", \"content\": system_prompt},\n",
    "    {\"role\": \"user\", \"content\": user_prompt}\n",
    "]\n",
    "\n",
    "# Show system prompt length for debugging\n",
    "print(f\"System prompt length: {len(system_prompt)} characters\")\n",
    "print(f\"Contains Notion content: {'Yes' if notion_content else 'No'}\")"
   ]
  },
  {
   "cell_type": "code",
   "execution_count": 17,
   "id": "228ee37d",
   "metadata": {},
   "outputs": [
    {
     "data": {
      "text/markdown": [
       "The line of code you've provided uses a Python feature called \"generator expressions\" combined with the `yield from` statement and a set comprehension. Let's break down the code step-by-step:\n",
       "\n",
       "### Code Explanation\n",
       "\n",
       "python\n",
       "yield from {book.get(\"author\") for book in books if book.get(\"author\")}\n",
       "\n",
       "\n",
       "1. **Context of `yield` and `yield from`:**\n",
       "   - The keyword `yield` in Python is used within a function to make that function a generator. When a generator function is called, it does not execute its body immediately; instead, it returns a generator object that can be iterated over.\n",
       "   - `yield from <iterator>` is used to delegate part of the generator’s operations to another generator or iterable. This means that the items from the iterable (or another generator) are yielded to the caller in a simple manner.\n",
       "\n",
       "2. **Set Comprehension:**\n",
       "   - The expression `{book.get(\"author\") for book in books if book.get(\"author\")}` is a **set comprehension**. This creates a new set, which is a collection of unique elements.\n",
       "   - In this case, `books` is presumed to be an iterable (like a list or a set) containing `book` dictionaries.\n",
       "   - For each `book` in `books`, `book.get(\"author\")` is called. This method retrieves the value associated with the key `\"author\"` in the dictionary. If the key does not exist, it returns `None`.\n",
       "   - The condition `if book.get(\"author\")` filters the books to include only those where the author exists (i.e., not `None` or an empty string).\n",
       "\n",
       "3. **Overall Functionality:**\n",
       "   - This line of code creates a set of unique authors from the `books` collection, where the `author` key is present and non-null.\n",
       "   - The `yield from` part then yields each unique author from this set to the caller of the generator function. \n",
       "\n",
       "### Why Use This Code:\n",
       "\n",
       "1. **Efficiency of Sets:**\n",
       "   - By using a set comprehension (`{}`), this code ensures that only unique authors are yielded. The nature of sets in Python automatically handles duplicate values, making it an efficient way to filter unique results.\n",
       "\n",
       "2. **Generator Functionality:**\n",
       "   - Using `yield from` allows the function to produce values one at a time in a memory-efficient manner. Instead of creating a list of unique authors and returning it all at once, which would consume memory proportional to the size of the list, this approach yields authors one by one as they are requested.\n",
       "\n",
       "3. **Readable and Concise:**\n",
       "   - The use of comprehensions (`set` and list comprehensions) makes the code more concise and readable, allowing us to express the logic of extracting authors succinctly.\n",
       "\n",
       "### Example Scenario\n",
       "\n",
       "Let’s say you have a list of book dictionaries like below:\n",
       "\n",
       "python\n",
       "books = [\n",
       "    {\"title\": \"Book A\", \"author\": \"Author 1\"},\n",
       "    {\"title\": \"Book B\", \"author\": \"Author 2\"},\n",
       "    {\"title\": \"Book C\"},\n",
       "    {\"title\": \"Book D\", \"author\": \"Author 1\"},\n",
       "]\n",
       "\n",
       "\n",
       "Using the provided code, the yield would result in an iteration of authors like so:\n",
       "\n",
       "- \"Author 1\" (from the first and the fourth book)\n",
       "- \"Author 2\" (from the second book)\n",
       "\n",
       "The author `\"Book C\"` would not be included since it does not have an author specified.\n",
       "\n",
       "### Conclusion\n",
       "\n",
       "This line of code is a concise and efficient way to extract and yield unique authors from a collection of books while utilizing Python's features to maintain memory efficiency and code readability. It is an excellent demonstration of set comprehensions and generator functionality in Python."
      ],
      "text/plain": [
       "<IPython.core.display.Markdown object>"
      ]
     },
     "metadata": {},
     "output_type": "display_data"
    }
   ],
   "source": [
    "# Get gpt-4o-mini to answer, with streaming\n",
    "stream = CLIENT.chat.completions.create(\n",
    "    model=MODEL_GPT,\n",
    "    messages=messages,\n",
    "    stream=True\n",
    ")\n",
    "response = \"\"\n",
    "display_handle = display(Markdown(\"\"), display_id=True)\n",
    "for chunk in stream:\n",
    "    response += chunk.choices[0].delta.content or ''\n",
    "    response = response.replace(\"```\",\"\").replace(\"markdown\", \"\")\n",
    "    update_display(Markdown(response), display_id=display_handle.display_id)"
   ]
  },
  {
   "cell_type": "code",
   "execution_count": 13,
   "id": "26a6a4e5",
   "metadata": {},
   "outputs": [
    {
     "data": {
      "text/markdown": [
       "**Code Explanation**\n",
       "\n",
       "The given code snippet is written in Python and utilizes several advanced concepts, including generators, iterators, and dictionary comprehensions. Let's break it down:\n",
       "\n",
       "```python\n",
       "yield from {book.get(\"author\") for book in books if book.get(\"author\")}\n",
       "```\n",
       "\n",
       "Here's a step-by-step explanation:\n",
       "\n",
       "1. `yield from`: This keyword is used to delegate the execution of the enclosing generator function to the generators contained within it.\n",
       "\n",
       "2. `{... for ...}`: This is a dictionary comprehension, which creates a new dictionary containing key-value pairs generated by the code inside the comprehension.\n",
       "\n",
       "3. `book.get(\"author\")`: For each book in the `books` collection, this expression attempts to retrieve the \"author\" value associated with that book.\n",
       "\n",
       "4. `for book in books if book.get(\"author\")`: This is a conditional iterator, which only includes books in the iteration where the \"author\" key exists within the book dictionary.\n",
       "\n",
       "5. The entire comprehension is wrapped in `yield from`, which means it will yield each value (i.e., the author names) one at a time as the generator is iterated over.\n",
       "\n",
       "**Why It's Written This Way**\n",
       "\n",
       "This code snippet is likely used to extract and yield all unique author names from a collection of books, while filtering out any books without an \"author\" key. \n",
       "\n",
       "Using `yield from` has several advantages:\n",
       "\n",
       "- **Lazy Evaluation**: The expression is only evaluated when its value is actually needed. Since it's wrapped in a generator function, the entire comprehension can be suspended and resumed at will.\n",
       "\n",
       "- **Efficiency**: Without `yield from`, the entire list of author names would need to be computed all at once. This approach reduces memory usage by processing only the necessary books and delaying computation until each value is required.\n",
       "\n",
       "Here's an equivalent but more verbose version using a for loop:\n",
       "\n",
       "```python\n",
       "def get_authors(books):\n",
       "    authors = set()\n",
       "    for book in books:\n",
       "        if \"author\" in book:\n",
       "            authors.add(book[\"author\"])\n",
       "    yield from authors\n",
       "```\n",
       "\n",
       "This can be seen as less efficient due to the need for a set data structure and explicit loops, but it conveys the same intent. The original code snippet is generally more concise and Pythonic because of its use of `yield from` and dictionary comprehension."
      ],
      "text/plain": [
       "<IPython.core.display.Markdown object>"
      ]
     },
     "metadata": {},
     "output_type": "display_data"
    }
   ],
   "source": [
    "# Get Llama 3.2 to answer\n",
    "response = ollama.chat(model=MODEL_LLAMA, messages=messages)\n",
    "reply = response['message']['content']\n",
    "display(Markdown(reply))"
   ]
  }
 ],
 "metadata": {
  "kernelspec": {
   "display_name": "Python 3",
   "language": "python",
   "name": "python3"
  },
  "language_info": {
   "codemirror_mode": {
    "name": "ipython",
    "version": 3
   },
   "file_extension": ".py",
   "mimetype": "text/x-python",
   "name": "python",
   "nbconvert_exporter": "python",
   "pygments_lexer": "ipython3",
   "version": "3.12.6"
  }
 },
 "nbformat": 4,
 "nbformat_minor": 5
}
