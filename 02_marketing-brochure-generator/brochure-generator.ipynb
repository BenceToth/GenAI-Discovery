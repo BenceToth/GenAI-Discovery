{
 "cells": [
  {
   "cell_type": "markdown",
   "id": "a98030af-fcd1-4d63-a36e-38ba053498fa",
   "metadata": {},
   "source": [
    "### BUSINESS CHALLENGE:\n",
    "\n",
    "Create a product that builds a Brochure for a company to be used for prospective clients, investors and potential recruits.\n",
    "\n",
    "We will be provided a company name and their primary website."
   ]
  },
  {
   "cell_type": "code",
   "execution_count": 8,
   "id": "d5b08506-dc8b-4443-9201-5f1848161363",
   "metadata": {},
   "outputs": [],
   "source": [
    "# imports\n",
    "import warnings\n",
    "import os\n",
    "import requests\n",
    "import json\n",
    "from typing import List\n",
    "from dotenv import load_dotenv\n",
    "from bs4 import BeautifulSoup\n",
    "from IPython.display import Markdown, display, update_display\n",
    "from openai import OpenAI\n",
    "\n",
    "# Disable warnings (including SSL warnings)\n",
    "warnings.filterwarnings('ignore')"
   ]
  },
  {
   "cell_type": "code",
   "execution_count": null,
   "id": "fc5d8880-f2ee-4c06-af16-ecbc0262af61",
   "metadata": {},
   "outputs": [
    {
     "name": "stdout",
     "output_type": "stream",
     "text": [
      "API key looks good so far\n"
     ]
    }
   ],
   "source": [
    "# Initialize and constants\n",
    "\n",
    "load_dotenv(override=True)\n",
    "api_key = os.getenv('OPENAI_API_KEY')\n",
    "\n",
    "if api_key and api_key.startswith('sk-proj-') and len(api_key)>10:\n",
    "    print(\"API key looks good so far\")\n",
    "else:\n",
    "    print(\"There might be a problem with your API key? Please check it is set correctly in your .env file\")\n",
    "    \n",
    "MODEL = 'gpt-4o-mini'\n",
    "openai = OpenAI()"
   ]
  },
  {
   "cell_type": "code",
   "execution_count": 9,
   "id": "106dd65e-90af-4ca8-86b6-23a41840645b",
   "metadata": {},
   "outputs": [],
   "source": [
    "# A class to represent a Webpage\n",
    "\n",
    "# Some websites need you to use proper headers when fetching them:\n",
    "headers = {\n",
    " \"User-Agent\": \"Mozilla/5.0 (Windows NT 10.0; Win64; x64) AppleWebKit/537.36 (KHTML, like Gecko) Chrome/117.0.0.0 Safari/537.36\"\n",
    "}\n",
    "\n",
    "class Website:\n",
    "    \"\"\"\n",
    "    A utility class to represent a Website that we have scraped, now with links\n",
    "    \"\"\"\n",
    "\n",
    "    def __init__(self, url):\n",
    "        self.url = url\n",
    "        response = requests.get(url, headers=headers, verify=False)  # verify=False (only for test purposes)\n",
    "        self.body = response.content\n",
    "        soup = BeautifulSoup(self.body, 'html.parser')\n",
    "        self.title = soup.title.string if soup.title else \"No title found\"\n",
    "        if soup.body:\n",
    "            for irrelevant in soup.body([\"script\", \"style\", \"img\", \"input\"]):\n",
    "                irrelevant.decompose()\n",
    "            self.text = soup.body.get_text(separator=\"\\n\", strip=True)\n",
    "        else:\n",
    "            self.text = \"\"\n",
    "        links = [link.get('href') for link in soup.find_all('a')]\n",
    "        self.links = [link for link in links if link]\n",
    "\n",
    "    def get_contents(self):\n",
    "        return f\"Webpage Title:\\n{self.title}\\nWebpage Contents:\\n{self.text}\\n\\n\""
   ]
  },
  {
   "cell_type": "code",
   "execution_count": 19,
   "id": "aa45d851",
   "metadata": {},
   "outputs": [
    {
     "data": {
      "text/plain": [
       "'Webpage Title:\\nHome \\\\ Anthropic\\nWebpage Contents:\\nSkip to main content\\nSkip to footer\\nResearch\\nEconomic Futures\\nCommitments\\nInitiatives\\nTransparency\\nResponsible Scaling Policy\\nTrust center\\nSecurity and compliance\\nLearn\\nLearn\\nAnthropic Academy\\nEngineering at Anthropic\\nDeveloper docs\\nCompany\\nAbout\\nCareers\\nEvents\\nNews\\nTry Claude\\nTry Claude\\nTry Claude\\nLearn more about Claude\\nProducts\\nClaude\\nClaude Code\\nClaude Developer Platform\\nPricing\\nContact sales\\nModels\\nOpus\\nSonnet\\nHaiku\\nLog in\\nClaude.ai\\nClaude Console\\nEN\\nThis is some text inside of a div block.\\nLog in to Claude\\nLog in to Claude\\nLog in to Claude\\nDownload app\\nDownload app\\nDownload app\\nResearch\\nEconomic Futures\\nCommitments\\nInitiatives\\nTransparency\\nResponsible Scaling Policy\\nTrust center\\nSecurity and compliance\\nLearn\\nLearn\\nAnthropic Academy\\nEngineering at Anthropic\\nDeveloper docs\\nCompany\\nAbout\\nCareers\\nEvents\\nNews\\nTry Claude\\nTry Claude\\nTry Claude\\nLearn more about Claude\\nProducts\\nClaude\\nClaude Code\\nClaude Developer Platform\\nPricing\\nContact sales\\nModels\\nOpus\\nSonnet\\nHaiku\\nLog in\\nClaude.ai\\nClaude Console\\nEN\\nThis is some text inside of a div block.\\nLog in to Claude\\nLog in to Claude\\nLog in to Claude\\nDownload app\\nDownload app\\nDownload app\\nAI\\nresearch\\nand\\nproducts\\nthat put safety at the frontier\\nAI will have a vast impact on the world. Anthropic is a public benefit corporation dedicated to securing its benefits and mitigating its risks.\\nClaude Sonnet 4.5\\nIntroducing the best model in the world for agents, coding, and computer use.\\nRead announcement\\nRead announcement\\nRead announcement\\nLearn more\\nManaging context on the Claude Developer Platform\\nEnabling Claude Code to work more autonomously\\nModel details\\n“\\nWhen you’re talking to a large language model, what exactly is it that you’re talking to?\\nAt Anthropic, we build AI to serve humanity’s long-term well-being.\\n\\u200d\\nWhile no one can foresee every outcome AI will have on society, we do know that designing powerful technologies requires both bold steps forward and intentional pauses to consider the effects.\\nThat’s why we focus on building tools with human benefit at their foundation, like Claude. Through our daily research, policy work, and product design, we aim to show what responsible AI development looks like in practice.\\nCore Views on AI Safety\\nLearn more about our views on AI Safety\\nLearn more about our views on AI Safety\\nAnthropic’s Responsible Scaling Policy\\nLearn more about our Responsible Scaling Policy\\nLearn more about our Responsible Scaling Policy\\nAnthropic Academy: Learn to build with Claude\\nAccess Anthropic Academy\\nAccess Anthropic Academy\\nFeatured\\nAnthropic Economic Index\\nSocietal impacts\\nSep 15, 2025\\nClaude Sonnet 4 with 1M context\\nProduct\\nAug 12, 2025\\nClaude Opus 4.1\\nAnnouncements\\nAug 05, 2025\\nProject Vend\\nPolicy\\nJun 26, 2025\\nAgentic Misalignment\\nAlignment\\nJun 20, 2025\\nIntroducing Claude 4\\nAnnouncements\\nMay 22, 2025\\nTracing the thoughts of a large language model\\nInterpretability\\nMar 27, 2025\\nWant to help us build the future of safe AI?\\nSee open roles\\nSee open roles\\nSee open roles\\nSpeak with sales\\nSpeak with sales\\nSpeak with sales\\nFooter\\n©\\n2024\\nAnthropic PBC\\nProducts\\nClaude\\nClaude Code\\nMax plan\\nTeam plan\\nEnterprise plan\\nDownload apps\\nPricing\\nLog in to Claude\\nModels\\nOpus\\nSonnet\\nHaiku\\nSolutions\\nAI\\xa0agents\\nCode modernization\\nCoding\\nCustomer support\\nEducation\\nFinancial services\\nGovernment\\nClaude Developer Platform\\nOverview\\nDeveloper docs\\nPricing\\nAmazon Bedrock\\nGoogle Cloud’s Vertex AI\\nConsole login\\nLearn\\nCourses\\nConnectors\\nCustomer stories\\nEngineering at Anthropic\\nEvents\\nPowered by Claude\\nService partners\\nStartups program\\nCompany\\nAnthropic\\nCareers\\nEconomic Futures\\nResearch\\nNews\\nResponsible Scaling Policy\\nSecurity and compliance\\nTransparency\\nHelp and security\\nAvailability\\nStatus\\nSupport center\\nTerms and policies\\nPrivacy choices\\nCookie Settings\\nWe use cookies to deliver and improve our services, analyze site usage, and if you agree, to customize or personalize your experience and market our services to you. You can read our Cookie Policy\\nhere\\n.\\nCustomize\\ncookie settings\\nReject\\nall cookies\\nAccept\\nall cookies\\nNecessary\\nEnables security and basic functionality.\\nRequired\\nAnalytics\\nEnables tracking of site performance.\\nOff\\nMarketing\\nEnables ads personalization and tracking.\\nOff\\nSave preferences\\nPrivacy policy\\nResponsible disclosure policy\\nTerms of service: Commercial\\nTerms of service: Consumer\\nUsage policy\\n©\\n2024\\nAnthropic PBC\\n\\n'"
      ]
     },
     "execution_count": 19,
     "metadata": {},
     "output_type": "execute_result"
    }
   ],
   "source": [
    "an = Website(\"https://anthropic.com\")\n",
    "an.get_contents()"
   ]
  }
 ],
 "metadata": {
  "kernelspec": {
   "display_name": "Python 3",
   "language": "python",
   "name": "python3"
  },
  "language_info": {
   "codemirror_mode": {
    "name": "ipython",
    "version": 3
   },
   "file_extension": ".py",
   "mimetype": "text/x-python",
   "name": "python",
   "nbconvert_exporter": "python",
   "pygments_lexer": "ipython3",
   "version": "3.12.6"
  }
 },
 "nbformat": 4,
 "nbformat_minor": 5
}
