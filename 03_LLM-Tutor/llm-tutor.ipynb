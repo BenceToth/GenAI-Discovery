{
 "cells": [
  {
   "cell_type": "markdown",
   "id": "58cfbde4",
   "metadata": {},
   "source": [
    "# LLM Tutor"
   ]
  },
  {
   "cell_type": "markdown",
   "id": "6e1219a5",
   "metadata": {},
   "source": [
    "A tool that takes a technical question, and responds with an explanation. I will build upon it in the future"
   ]
  },
  {
   "cell_type": "code",
   "execution_count": 7,
   "id": "075050a2",
   "metadata": {},
   "outputs": [],
   "source": [
    "# imports\n",
    "from dotenv import load_dotenv\n",
    "from IPython.display import Markdown, display, update_display\n",
    "from openai import OpenAI\n",
    "import ollama\n",
    "import os"
   ]
  },
  {
   "cell_type": "code",
   "execution_count": 8,
   "id": "943fafcc",
   "metadata": {},
   "outputs": [],
   "source": [
    "# constants\n",
    "MODEL_GPT = 'gpt-4o-mini'\n",
    "MODEL_LLAMA = 'llama3.2'\n",
    "CLIENT = OpenAI()\n",
    "API_KEY = os.getenv('OPENAI_API_KEY')"
   ]
  },
  {
   "cell_type": "code",
   "execution_count": 9,
   "id": "5a4086e2",
   "metadata": {},
   "outputs": [
    {
     "name": "stdout",
     "output_type": "stream",
     "text": [
      "API key looks good so far\n"
     ]
    }
   ],
   "source": [
    "# set up environment\n",
    "load_dotenv(override=True)\n",
    "\n",
    "if API_KEY and API_KEY.startswith('sk-proj-') and len(API_KEY)>10:\n",
    "    print(\"API key looks good so far\")\n",
    "else:\n",
    "    print(\"There might be a problem with your API key? Please visit the troubleshooting notebook!\")"
   ]
  },
  {
   "cell_type": "code",
   "execution_count": 10,
   "id": "52e31ed0",
   "metadata": {},
   "outputs": [],
   "source": [
    "question = \"\"\"\n",
    "Please explain what this code does and why:\n",
    "yield from {book.get(\"author\") for book in books if book.get(\"author\")}\n",
    "\"\"\""
   ]
  },
  {
   "cell_type": "code",
   "execution_count": 11,
   "id": "186669c8",
   "metadata": {},
   "outputs": [],
   "source": [
    "system_prompt = \"You are a helpful technical tutor who answers questions about python code, software engineering, data science and LLMs\"\n",
    "user_prompt = \"Please give a detailed explanation to the following question: \" + question\n",
    "\n",
    "messages = [\n",
    "    {\"role\": \"system\", \"content\": system_prompt},\n",
    "    {\"role\": \"user\", \"content\": user_prompt}\n",
    "]"
   ]
  },
  {
   "cell_type": "code",
   "execution_count": 12,
   "id": "228ee37d",
   "metadata": {},
   "outputs": [
    {
     "data": {
      "text/markdown": [
       "Sure! Let's break down the provided code line by line to understand what it does and why it might be structured this way.\n",
       "\n",
       "### Code Breakdown\n",
       "\n",
       "python\n",
       "yield from {book.get(\"author\") for book in books if book.get(\"author\")}\n",
       "\n",
       "\n",
       "1. **`{...}`: Set Comprehension**\n",
       "   - The code uses a set comprehension to create a new set. A set is a collection data type in Python that automatically ensures all elements are unique and it is unordered.\n",
       "   - Inside the curly braces, we have an expression involving `book.get(\"author\")`.\n",
       "\n",
       "2. **`for book in books`**: Iteration\n",
       "   - This part iterates over a collection called `books`. \n",
       "   - We can assume that `books` is some kind of iterable container, such as a list or a tuple, where each element (named `book` in the loop) is expected to be a dictionary containing various attributes of a book.\n",
       "\n",
       "3. **`book.get(\"author\")`**: Accessing Dictionary Values\n",
       "   - The `get` method is used on the `book` dictionary to retrieve the value associated with the key `\"author\"`.\n",
       "   - If the `\"author\"` key does not exist in the `book`, the method returns `None` (or a specified default value, if provided).\n",
       "\n",
       "4. **`if book.get(\"author\")`**: Conditional Filtering\n",
       "   - This part filters the books so that only those with a non-`None` (or non-falsy) author will be included in the set comprehension.\n",
       "   - In Python, a string is considered \"truthy\" if it has content and \"falsy\" if it is empty or `None`. So, we only keep valid author strings.\n",
       "\n",
       "5. **`yield from ...`**: Generator Yielding\n",
       "   - The `yield from` statement in Python is a way to yield all values from an iterable. Essentially, it allows you to yield multiple values from an iterator, making the code more efficient and readable.\n",
       "   - When combined with the set comprehension, this will take each unique author obtained from the books and yield them one-by-one.\n",
       "\n",
       "### What the Code Does\n",
       "\n",
       "The entire line of code does the following:\n",
       "\n",
       "- It creates a set of unique author names from the `books` collection.\n",
       "- Each author name is extracted from the `book` dictionaries, where the `\"author\"` key exists and contains a non-falsy value (i.e., it is not `None` or an empty string).\n",
       "- It then yields each unique author name using a generator, allowing you to iterate over them as if they were individual values.\n",
       "\n",
       "### Why This Structure Might Be Used\n",
       "\n",
       "1. **Efficiency**: Using a set ensures that the same author won't be yielded multiple times. Since sets do not allow duplicate values, this handles deduplication for free.\n",
       "\n",
       "2. **Clarity**: The use of set comprehension makes it clear that we are creating a collection of unique author names, and `yield from` simplifies the process of returning those values to the caller.\n",
       "\n",
       "3. **Memory Management**: This pattern allows for on-the-fly generation of values instead of creating a complete list or set in memory, reducing the overall memory footprint, especially if the number of authors is significant.\n",
       "\n",
       "4. **Lazy Evaluation**: By yielding values one at a time, it allows the consumer of this generator to start processing authors without needing to wait for all values to be computed and stored, which is particularly useful in streaming or large-data contexts.\n",
       "\n",
       "### Summary\n",
       "\n",
       "In summary, the code effectively gathers unique authors from the `books` collection and provides them one-by-one in a memory-efficient manner using Python's generator and set comprehension features. This structure is beneficial for processing data in a clean, efficient, and readable way."
      ],
      "text/plain": [
       "<IPython.core.display.Markdown object>"
      ]
     },
     "metadata": {},
     "output_type": "display_data"
    }
   ],
   "source": [
    "# Get gpt-4o-mini to answer, with streaming\n",
    "stream = CLIENT.chat.completions.create(\n",
    "    model=MODEL_GPT,\n",
    "    messages=messages,\n",
    "    stream=True\n",
    ")\n",
    "response = \"\"\n",
    "display_handle = display(Markdown(\"\"), display_id=True)\n",
    "for chunk in stream:\n",
    "    response += chunk.choices[0].delta.content or ''\n",
    "    response = response.replace(\"```\",\"\").replace(\"markdown\", \"\")\n",
    "    update_display(Markdown(response), display_id=display_handle.display_id)"
   ]
  },
  {
   "cell_type": "code",
   "execution_count": 13,
   "id": "26a6a4e5",
   "metadata": {},
   "outputs": [
    {
     "data": {
      "text/markdown": [
       "**Code Explanation**\n",
       "\n",
       "The given code snippet is written in Python and utilizes several advanced concepts, including generators, iterators, and dictionary comprehensions. Let's break it down:\n",
       "\n",
       "```python\n",
       "yield from {book.get(\"author\") for book in books if book.get(\"author\")}\n",
       "```\n",
       "\n",
       "Here's a step-by-step explanation:\n",
       "\n",
       "1. `yield from`: This keyword is used to delegate the execution of the enclosing generator function to the generators contained within it.\n",
       "\n",
       "2. `{... for ...}`: This is a dictionary comprehension, which creates a new dictionary containing key-value pairs generated by the code inside the comprehension.\n",
       "\n",
       "3. `book.get(\"author\")`: For each book in the `books` collection, this expression attempts to retrieve the \"author\" value associated with that book.\n",
       "\n",
       "4. `for book in books if book.get(\"author\")`: This is a conditional iterator, which only includes books in the iteration where the \"author\" key exists within the book dictionary.\n",
       "\n",
       "5. The entire comprehension is wrapped in `yield from`, which means it will yield each value (i.e., the author names) one at a time as the generator is iterated over.\n",
       "\n",
       "**Why It's Written This Way**\n",
       "\n",
       "This code snippet is likely used to extract and yield all unique author names from a collection of books, while filtering out any books without an \"author\" key. \n",
       "\n",
       "Using `yield from` has several advantages:\n",
       "\n",
       "- **Lazy Evaluation**: The expression is only evaluated when its value is actually needed. Since it's wrapped in a generator function, the entire comprehension can be suspended and resumed at will.\n",
       "\n",
       "- **Efficiency**: Without `yield from`, the entire list of author names would need to be computed all at once. This approach reduces memory usage by processing only the necessary books and delaying computation until each value is required.\n",
       "\n",
       "Here's an equivalent but more verbose version using a for loop:\n",
       "\n",
       "```python\n",
       "def get_authors(books):\n",
       "    authors = set()\n",
       "    for book in books:\n",
       "        if \"author\" in book:\n",
       "            authors.add(book[\"author\"])\n",
       "    yield from authors\n",
       "```\n",
       "\n",
       "This can be seen as less efficient due to the need for a set data structure and explicit loops, but it conveys the same intent. The original code snippet is generally more concise and Pythonic because of its use of `yield from` and dictionary comprehension."
      ],
      "text/plain": [
       "<IPython.core.display.Markdown object>"
      ]
     },
     "metadata": {},
     "output_type": "display_data"
    }
   ],
   "source": [
    "# Get Llama 3.2 to answer\n",
    "response = ollama.chat(model=MODEL_LLAMA, messages=messages)\n",
    "reply = response['message']['content']\n",
    "display(Markdown(reply))"
   ]
  }
 ],
 "metadata": {
  "kernelspec": {
   "display_name": "Python 3",
   "language": "python",
   "name": "python3"
  },
  "language_info": {
   "codemirror_mode": {
    "name": "ipython",
    "version": 3
   },
   "file_extension": ".py",
   "mimetype": "text/x-python",
   "name": "python",
   "nbconvert_exporter": "python",
   "pygments_lexer": "ipython3",
   "version": "3.12.6"
  }
 },
 "nbformat": 4,
 "nbformat_minor": 5
}
